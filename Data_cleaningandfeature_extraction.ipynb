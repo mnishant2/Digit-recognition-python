{
 "cells": [
  {
   "cell_type": "code",
   "execution_count": 215,
   "metadata": {},
   "outputs": [],
   "source": [
    "import python_speech_features as sf\n",
    "import scipy\n",
    "import scipy.io.wavfile\n",
    "import scipy.cluster\n",
    "import sys\n",
    "import os\n",
    "import glob\n",
    "import numpy as np\n",
    "import json\n",
    "import itertools\n",
    "import cPickle as cp"
   ]
  },
  {
   "cell_type": "code",
   "execution_count": 150,
   "metadata": {},
   "outputs": [
    {
     "name": "stdout",
     "output_type": "stream",
     "text": [
      "sampling freq is:8 kHZ\n"
     ]
    }
   ],
   "source": [
    "(f,s)=scipy.io.wavfile.read('/home/nishant/Desktop/recordings/0_nicolas_19.wav')\n",
    "print 'sampling freq is:%d kHZ'%(f/1000)"
   ]
  },
  {
   "cell_type": "markdown",
   "metadata": {},
   "source": [
    "### details about mfcc and their superiority along with code and library have been explained in the document"
   ]
  },
  {
   "cell_type": "markdown",
   "metadata": {},
   "source": [
    "**function to calculate mfcc for each of the audio files**"
   ]
  },
  {
   "cell_type": "markdown",
   "metadata": {},
   "source": [
    "**You can see clearly here the data non uniformities I observed ,data by speaker jason is clearly useless,very long,and wrong with respect to its label.also the user nicolas data has two dimensions,on careful observation,I found it basically has tuples with the same values,so cleaning it to use only one of the tuple elements was necessary**"
   ]
  },
  {
   "cell_type": "code",
   "execution_count": 221,
   "metadata": {},
   "outputs": [
    {
     "name": "stdout",
     "output_type": "stream",
     "text": [
      " (3688, 2) (5148,) (23999,) (4231,)\n"
     ]
    }
   ],
   "source": [
    "f1,s1=scipy.io.wavfile.read('/home/nishant/Desktop/recordings/0_nicolas_19.wav')\n",
    "f2,s2=scipy.io.wavfile.read('/home/nishant/Desktop/recordings/0_jackson_0.wav')\n",
    "f3,s3=scipy.io.wavfile.read('/home/nishant/Desktop/recordings/0_jason_12.wav')\n",
    "f4,s4=scipy.io.wavfile.read('/home/nishant/Desktop/recordings/0_theo_34.wav')\n",
    "print s1.shape,s2.shape,s3.shape,s4.shape"
   ]
  },
  {
   "cell_type": "code",
   "execution_count": 207,
   "metadata": {},
   "outputs": [],
   "source": [
    "def findmfcc(s,fs):\n",
    "    a=[]\n",
    "    #code for silence removal,was volatile and not very effective only increasing runtime,hence commented\n",
    "    #this was based on the trimmer.py provided with code\n",
    "    \n",
    "    #for idx, point in enumerate(s[:]):\n",
    "            #if abs(point) > 150:\n",
    "             #  start = idx\n",
    "             #  break\n",
    "    #for idx, point in enumerate(s[::-1]):\n",
    "          #  #if abs(point) > 150:\n",
    "               # end = len(s) - idx\n",
    "                #break\n",
    "    #s=s[start:end]\n",
    "    a=sf.mfcc(s,fs)\n",
    "    a=scipy.cluster.vq.whiten(np.asarray(a))\n",
    "    a=scipy.cluster.vq.kmeans(a,1)\n",
    "    return a[0]"
   ]
  },
  {
   "cell_type": "markdown",
   "metadata": {},
   "source": [
    "**converting each audio file to mfcc vectors along with one hot encoded labels,while discarding all the jason files**"
   ]
  },
  {
   "cell_type": "code",
   "execution_count": 208,
   "metadata": {},
   "outputs": [],
   "source": [
    "def create_data():\n",
    "    path='../nishant/Desktop/digit_recognition/Data/recordings/'\n",
    "    features=[]\n",
    "    labels=[]\n",
    "\n",
    "    for i in range(10):\n",
    "        \n",
    "        files = glob.glob(path+str(i)+'*')\n",
    "        #print files\n",
    "        for f in files:\n",
    "            filename = os.path.basename(f)\n",
    "            if filename[2:7]=='jason':\n",
    "                continue\n",
    "            fs,sound=scipy.io.wavfile.read(f)\n",
    "            \n",
    "            if len(sound.shape)==2:\n",
    "                sound=np.array([k[0] for k in sound])\n",
    "            mfcc_vect=findmfcc(sound,fs)\n",
    "            features.append(mfcc_vect)\n",
    "            label = np.zeros(10)\n",
    "            label[i] = 1.0\n",
    "            labels.append(label)\n",
    "    features = list(itertools.chain.from_iterable(features))\n",
    "    labels=np.array(labels)\n",
    "    features=np.array(features)\n",
    "    \n",
    "    return features,labels\n",
    "    \n",
    "    \n",
    "    "
   ]
  },
  {
   "cell_type": "code",
   "execution_count": 218,
   "metadata": {},
   "outputs": [
    {
     "name": "stdout",
     "output_type": "stream",
     "text": [
      "[[  9.17359334   1.52348152  -0.02796871 ...,  -0.23122445  -0.45300224\n",
      "   -1.11229628]\n",
      " [  8.41724663   1.50730392  -0.25423204 ...,  -0.33492478  -0.22269325\n",
      "   -0.81681781]\n",
      " [  8.35676396   1.23340277  -0.22144965 ...,   0.16379507  -0.20743994\n",
      "   -1.43899699]\n",
      " ..., \n",
      " [ 15.81513847   1.86393871   0.24996151 ...,   1.23432014   1.35190087\n",
      "    0.07747606]\n",
      " [  7.58431043  -0.09793268  -0.47481588 ...,  -0.75819508  -1.81654454\n",
      "    0.68403551]\n",
      " [ 16.18351063   2.07356315   0.30892168 ...,   1.01224972   1.20670062\n",
      "    0.27163475]]\n"
     ]
    }
   ],
   "source": [
    "path='../nishant/Desktop/digit_recognition/Data/recordings/'\n",
    "newpath='../nishant/Desktop/digit_recognition/features'\n",
    "x_train,y_train=create_data()\n",
    "print x_train\n",
    "if not os.path.isdir(newpath):\n",
    "    os.makedirs(newpath)\n",
    "dat=[x_train,y_train]\n",
    "with open(newpath+'/data.p','wb') as f:\n",
    "    cp.dump(dat,f)"
   ]
  }
 ],
 "metadata": {
  "kernelspec": {
   "display_name": "Python 2",
   "language": "python",
   "name": "python2"
  },
  "language_info": {
   "codemirror_mode": {
    "name": "ipython",
    "version": 2
   },
   "file_extension": ".py",
   "mimetype": "text/x-python",
   "name": "python",
   "nbconvert_exporter": "python",
   "pygments_lexer": "ipython2",
   "version": "2.7.12"
  }
 },
 "nbformat": 4,
 "nbformat_minor": 2
}
