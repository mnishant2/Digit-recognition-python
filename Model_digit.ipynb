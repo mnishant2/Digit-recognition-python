{
 "cells": [
  {
   "cell_type": "code",
   "execution_count": 5,
   "metadata": {},
   "outputs": [],
   "source": [
    "import sklearn\n",
    "from sklearn.cross_validation import KFold\n",
    "from sklearn.metrics import f1_score,accuracy_score\n",
    "from sklearn.model_selection import train_test_split\n",
    "import numpy as np\n",
    "import keras\n",
    "from sklearn.neighbors import KNeighborsClassifier\n",
    "import matplotlib.pyplot as plt\n",
    "from keras.models import Sequential\n",
    "from keras.layers import Dense,Dropout\n",
    "from keras.wrappers.scikit_learn import KerasClassifier\n",
    "from keras.utils import np_utils\n",
    "from sklearn.model_selection import cross_val_score\n",
    "import cPickle as cp"
   ]
  },
  {
   "cell_type": "code",
   "execution_count": 9,
   "metadata": {},
   "outputs": [
    {
     "name": "stdout",
     "output_type": "stream",
     "text": [
      "(1500, 13) (1500, 10)\n"
     ]
    }
   ],
   "source": [
    "xtrain,ytrain=cp.load(open('/home/nishant/Desktop/digit_recognition/features/data.p','rb'))\n",
    "print xtrain.shape,ytrain.shape"
   ]
  },
  {
   "cell_type": "code",
   "execution_count": 12,
   "metadata": {},
   "outputs": [
    {
     "name": "stdout",
     "output_type": "stream",
     "text": [
      "(1005, 13) (495, 13)\n"
     ]
    }
   ],
   "source": [
    "x_train,x_test,y_train,y_test=train_test_split(xtrain,ytrain,test_size=0.33,random_state=7)\n",
    "print x_train.shape,x_test.shape"
   ]
  },
  {
   "cell_type": "markdown",
   "metadata": {},
   "source": [
    "**On varying the nearest neighbors from 3 to 10,5 gave the optimal accuracy and f_score**"
   ]
  },
  {
   "cell_type": "code",
   "execution_count": 28,
   "metadata": {},
   "outputs": [
    {
     "name": "stdout",
     "output_type": "stream",
     "text": [
      "accuracy=90.10%\n",
      "f_score= 0.92\n"
     ]
    }
   ],
   "source": [
    "model= KNeighborsClassifier(n_neighbors=5)\n",
    "model.fit(x_train,y_train)\n",
    "print 'accuracy=%.2f%%'%(model.score(x_test,y_test)*100)\n",
    "pred=model.predict(x_test)\n",
    "print 'f_score= %.2f'%(f1_score(pred,y_test,average='weighted'))"
   ]
  },
  {
   "cell_type": "code",
   "execution_count": 30,
   "metadata": {},
   "outputs": [],
   "source": [
    "seed = 7\n",
    "np.random.seed(seed)"
   ]
  },
  {
   "cell_type": "markdown",
   "metadata": {},
   "source": [
    "**cross validation accuracy with ist hidden layer size 64 and second hidden layer size 16 was around 68%.Scaling the layer sizes clearly showed huge improvements in cross validation score**"
   ]
  },
  {
   "cell_type": "markdown",
   "metadata": {},
   "source": [
    "**similarly I narrowed doen to the batch and epoch sizes**"
   ]
  },
  {
   "cell_type": "code",
   "execution_count": null,
   "metadata": {},
   "outputs": [],
   "source": [
    "number_of_class=10   #number of classes\n",
    "dim_h1=128           #num of neuron in hidden layer1\n",
    "dim_h2=32"
   ]
  },
  {
   "cell_type": "code",
   "execution_count": 83,
   "metadata": {},
   "outputs": [],
   "source": [
    "def baseline_model():\n",
    "   \n",
    "    model = Sequential()\n",
    "    model.add(Dense(dim_h1,activation='relu',kernel_initializer=\"normal\",input_dim=13))\n",
    "    model.add(Dense(dim_h2,kernel_initializer=\"normal\",activation='relu'))\n",
    "    #model.add(Dropout(0.5))\n",
    "    model.add(Dense(number_of_class,kernel_initializer=\"normal\",activation='softmax'))\n",
    "    model.compile(loss='categorical_crossentropy', optimizer='adam', metrics=['accuracy'])\n",
    "    return model"
   ]
  },
  {
   "cell_type": "code",
   "execution_count": 84,
   "metadata": {},
   "outputs": [],
   "source": [
    "estimator = KerasClassifier(build_fn=baseline_model, nb_epoch=200,batch_size=32, verbose=0)"
   ]
  },
  {
   "cell_type": "markdown",
   "metadata": {},
   "source": [
    "**Since the dataset is small,we can better judge our model using cross validation and did it on the whole 1500 samples instead of the split ones**\n",
    "Returns crossval and standard deviation of the cross val score"
   ]
  },
  {
   "cell_type": "code",
   "execution_count": 102,
   "metadata": {},
   "outputs": [
    {
     "name": "stdout",
     "output_type": "stream",
     "text": [
      "Baseline: 86.80% (2.56%)\n"
     ]
    }
   ],
   "source": [
    "kfold = KFold(len(xtrain),n_folds=10, shuffle=True, random_state=seed)\n",
    "results = cross_val_score(estimator,xtrain,ytrain, cv=kfold)\n",
    "print(\"Baseline: %.2f%% (%.2f%%)\" % (results.mean()*100, results.std()*100))\n",
    "#print 'fscore=%.2f'% f1_score(estimator,)"
   ]
  },
  {
   "cell_type": "code",
   "execution_count": 86,
   "metadata": {},
   "outputs": [
    {
     "name": "stdout",
     "output_type": "stream",
     "text": [
      "Accuracy: 84.0404042571%\n",
      "\n"
     ]
    }
   ],
   "source": [
    "estimator.fit(x_train, y_train)\n",
    "print \"Accuracy: {}%\\n\".format(estimator.score(x_test, y_test) *100)"
   ]
  },
  {
   "cell_type": "code",
   "execution_count": 101,
   "metadata": {},
   "outputs": [],
   "source": [
    "#y_testlabels=np.argmax(y_test)\n",
    "#predlabels=np.argmax(estimator.predict(x_test))\n",
    "#print 'f_score= %.2f'%(f1_score(predlabels,y_testlabels))"
   ]
  }
 ],
 "metadata": {
  "kernelspec": {
   "display_name": "Python 2",
   "language": "python",
   "name": "python2"
  },
  "language_info": {
   "codemirror_mode": {
    "name": "ipython",
    "version": 2
   },
   "file_extension": ".py",
   "mimetype": "text/x-python",
   "name": "python",
   "nbconvert_exporter": "python",
   "pygments_lexer": "ipython2",
   "version": "2.7.12"
  }
 },
 "nbformat": 4,
 "nbformat_minor": 2
}
